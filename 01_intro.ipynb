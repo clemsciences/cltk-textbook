{
 "cells": [
  {
   "cell_type": "markdown",
   "id": "dominant-celebration",
   "metadata": {},
   "source": [
    "# <center>Introduction to CLTK</center>"
   ]
  },
  {
   "cell_type": "markdown",
   "id": "muslim-citation",
   "metadata": {},
   "source": [
    "<center>Dr. W.J.B. Mattingly</center>\n",
    "\n",
    "<center>Smithsonian Data Science Lab and CLTK</center>\n",
    "\n",
    "<center>April 2022</center>"
   ]
  },
  {
   "cell_type": "markdown",
   "id": "subject-france",
   "metadata": {},
   "source": [
    "## Covered in this Chapter"
   ]
  },
  {
   "cell_type": "markdown",
   "id": "obvious-bones",
   "metadata": {},
   "source": [
    "1) <br>\n",
    "2) <br>\n",
    "3) <br>"
   ]
  },
  {
   "cell_type": "markdown",
   "id": "addressed-giant",
   "metadata": {},
   "source": [
    "## About the Author"
   ]
  },
  {
   "cell_type": "markdown",
   "id": "77f5f893-1d48-4a81-8d43-9d8f9ae7077b",
   "metadata": {},
   "source": [
    "I am Dr. William Mattingly. I hold a PhD in Medieval History from the University of Kentucky where I explored early medieval social networks. A lot of my research was aided by my ability to code, specifically in Python, for data cleaning and analysis. I was even able to use Python to plot and visualize social networks and data. During the fourth year of my PhD, I used Python to create an app that I could use to plot and analyze these social networks. Currently, I am a Postdoctoral Fellow for the Analysis of Historical Documents at the Smithsonian Institution with a joint appointment at the United States Holocaust Memorial Museum. In both institutions, I use Python, machine learning, and natural language processing (NLP) to analyze historical texts in large quantities to generate new insights about the documents held in the archives. In all, I have nearly a decade of experience using Python as a historian.\n",
    "\n",
    "When I first started to explore Python, there were not many available tutorials geared towards humanists and, for that reason, four years ago I started PythonHumanities.com and Python Tutorials for Digital Humanities on YouTube. I geared these resources to humanists who had no prior knowledge about computing or coding. This new JupyterBook is the third iteration of this textbook that brings a lot of the material that first appeared on PythonHumanities.com years ago into a new, more accessible JupyterBook. It will forever remain free to all as will the video lectures embedded in this book."
   ]
  },
  {
   "cell_type": "markdown",
   "id": "dependent-greeting",
   "metadata": {},
   "source": [
    "## About this Textbook"
   ]
  },
  {
   "cell_type": "markdown",
   "id": "ethical-tourist",
   "metadata": {},
   "source": [
    "Because this textbook is not peer-reviewed, typos may remain or errors may exist. I openly and freely admit to this. This textbook is community-inspired and I would like it to be community-supported. If you see a mistake, you can click thee GitHub logo inn the top right corner of the screen to submit a pull request or make a note for edits. I highly encourage this and I am open to and welcome any criticism to improve this textbook for all.\n",
    "\n",
    "<img src=\"https://booknlp.pythonhumanities.com/_images/github_logo.JPG\">"
   ]
  },
  {
   "cell_type": "markdown",
   "id": "palestinian-movement",
   "metadata": {},
   "source": [
    "## What is CLTK?"
   ]
  },
  {
   "cell_type": "markdown",
   "id": "8c0781eb-ae7e-43be-a866-6e7d78d3fea7",
   "metadata": {},
   "source": [
    "The <a href=\"www.cltk.org\">Classical Language Toolkit (CLTK)</a> is a Python library for performing natural langauge processing (NLP) on ancient and medieval languages. It was created by <a href=\"https://github.com/kylepjohnson\">Kyle P. Johnson</a> in 2014 to address the lack of resources for doing NLP on pre-modern languages. These languages suffer from several notable drawbacks:\n",
    "\n",
    "- limited texts\n",
    "- no living native speakers\n",
    "- inconsistent encoding\n",
    "- limited funding\n",
    "\n",
    "All of these factors make pre-modern languages low-resource languages. The CLTK library resolves many of these issues by providing the data (texts), models (stanza and spaCy) and pipelines (CLTK) for processing pre-modern texts."
   ]
  },
  {
   "cell_type": "markdown",
   "id": "d92b5581-94dc-4adf-8461-8ed16789842e",
   "metadata": {},
   "source": [
    "## Why use CLTK?"
   ]
  },
  {
   "cell_type": "markdown",
   "id": "a3150542-fa5d-43f4-8617-3883e57bc7bf",
   "metadata": {},
   "source": [
    "Other available NLP libraries in Python, such as spaCy and Stanza, are powerful tools. They are not, however, necessarily equipped to handle some of the challenges pre-modern languages face. SpaCy cannot, for example, work with Arabic due to its right-to-left style. The CLTK was designed by researchers who are intimately familiar with the challenges of the languages they study. It was built from the ground up to address those specific challenges.\n",
    "\n",
    "The chief reason to use the CLTK is, therefore, so that you do not need to reinvent the wheel. Rather than coding solutions to problems you are seeing with Old English, leverage the prebuilt pipelines CLTK offers. As you become familiar with the CLTK, you will undoubtedly find things you wish to improve. As you do, you can code your own solutions and make a formal request for CLTK to adopt those changes via GitHub."
   ]
  },
  {
   "cell_type": "markdown",
   "id": "previous-physiology",
   "metadata": {},
   "source": [
    "## Installation"
   ]
  },
  {
   "cell_type": "markdown",
   "id": "black-frame",
   "metadata": {},
   "source": [
    "On Linux and Mac, you can install CLTK with \"pip install cltk\". If you are on Windows, however, you will encounter two potential errors:\n",
    "- Error \"Microsoft Visual C++ 14.0 is required (at installation)\n",
    "- Stanza KeyError: 'feat_dropout' (when first trying to use a CLTK model)"
   ]
  },
  {
   "cell_type": "markdown",
   "id": "1d464d61-e327-4631-b7cf-4c643c21e357",
   "metadata": {},
   "source": [
    "### Error \"Microsoft Visual C++ 14.0 is required"
   ]
  },
  {
   "cell_type": "markdown",
   "id": "403201e4-a6d8-45f9-badf-db6ed39435ce",
   "metadata": {},
   "source": [
    "The address the 'Error \"Microsoft Visual C++ 14.0 is required' error at install, you must first download and install Microsoft Visual Studio. You can find it here.\n",
    "(modified slightly from source: https://stackoverflow.com/questions/29846087/error-microsoft-visual-c-14-0-is-required-unable-to-find-vcvarsall-bat)\n",
    "- Go to Build Tools for Visual Studio 2022\n",
    "- Select free download under Visual Studio Community 2017. This will download the installer. Run the installer.\n",
    "- Select what you need under workload tab:\n",
    "    - Under Windows, there are three choices. Only check Desktop development with C++.\n",
    "    \n",
    "<br>\n",
    "<img src=\"https://i.stack.imgur.com/7rK61.jpg\">"
   ]
  },
  {
   "cell_type": "markdown",
   "id": "82c678e4-0121-4043-af3a-3f17ec1fe181",
   "metadata": {},
   "source": [
    "If you have installed everything correctly, you should now be able to install CLTK. If you are stilling having issues, please submit an issue on GitHub for this textbook and I will update it accordingly."
   ]
  },
  {
   "cell_type": "markdown",
   "id": "e998f3d1-497e-4932-ba24-df65685e2720",
   "metadata": {},
   "source": [
    "### Stanza KeyError: 'feat_dropout' (when first trying to use a CLTK model)"
   ]
  },
  {
   "cell_type": "markdown",
   "id": "7b12672d-a6d1-4c59-8265-8073914e3e58",
   "metadata": {},
   "source": [
    "This error occurs when you try and run a CLTK pipeline over a text. It occurs because you have old stanza models on your computer. You will need to have the newer Stanza v. 1.3 models installed. To do this, you will first need to find where they are located. On Windows, this will be in your username under the foldere \"stanza_resources\". Simply delete this folder and rerun your code. You will notice that CLTK will redownload the Stanza models."
   ]
  },
  {
   "cell_type": "markdown",
   "id": "critical-capital",
   "metadata": {},
   "source": [
    "## Citation of the CLTK"
   ]
  },
  {
   "cell_type": "markdown",
   "id": "parallel-element",
   "metadata": {},
   "source": [
    "When using the CLTK, you should cite <a href=\"https://aclanthology.org/2021.acl-demo.3/\">the following publication</a>, including the DOI:\n",
    "\n",
    "Johnson, Kyle P., Patrick J. Burns, John Stewart, Todd Cook, Clément Besnier, and William J. B. Mattingly. \"The Classical Language Toolkit: An NLP Framework for Pre-Modern Languages.\" In *Proceedings of the 59th Annual Meeting of the Association for Computational Linguistics and the 11th International Joint Conference on Natural Language Processing: System Demonstrations*, pp. 20-29. 2021. 10.18653/v1/2021.acl-demo.3"
   ]
  },
  {
   "cell_type": "markdown",
   "id": "floral-antique",
   "metadata": {},
   "source": [
    "## Conclusion"
   ]
  },
  {
   "cell_type": "markdown",
   "id": "hybrid-milwaukee",
   "metadata": {},
   "source": [
    "This chapter has introduced you generally to the CLTK library and given you instructions on how to install it. In the next chapter, we will import and begin using the CLTK library to analyze a text of Livy, a Roman author."
   ]
  },
  {
   "cell_type": "code",
   "execution_count": null,
   "id": "22979393-2d14-4d83-a873-15d4533a3fe0",
   "metadata": {},
   "outputs": [],
   "source": []
  }
 ],
 "metadata": {
  "kernelspec": {
   "display_name": "Python 3 (ipykernel)",
   "language": "python",
   "name": "python3"
  },
  "language_info": {
   "codemirror_mode": {
    "name": "ipython",
    "version": 3
   },
   "file_extension": ".py",
   "mimetype": "text/x-python",
   "name": "python",
   "nbconvert_exporter": "python",
   "pygments_lexer": "ipython3",
   "version": "3.7.13"
  }
 },
 "nbformat": 4,
 "nbformat_minor": 5
}
