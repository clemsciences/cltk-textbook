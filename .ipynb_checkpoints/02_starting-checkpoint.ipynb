{
 "cells": [
  {
   "cell_type": "markdown",
   "id": "dominant-celebration",
   "metadata": {
    "pycharm": {
     "name": "#%% md\n"
    }
   },
   "source": [
    "# <center>Commencer à utiliser CLTK</center>"
   ]
  },
  {
   "cell_type": "markdown",
   "id": "muslim-citation",
   "metadata": {
    "pycharm": {
     "name": "#%% md\n"
    }
   },
   "source": [
    "<center>Avril 2022</center>"
   ]
  },
  {
   "cell_type": "markdown",
   "id": "subject-france",
   "metadata": {
    "pycharm": {
     "name": "#%% md\n"
    }
   },
   "source": [
    "## Abordé dans ce chapitre"
   ]
  },
  {
   "cell_type": "markdown",
   "id": "bd014184-30c1-44d4-a5dd-1b4ebbfd5bf0",
   "metadata": {
    "pycharm": {
     "name": "#%% md\n"
    }
   },
   "source": [
    "Dans ce chapitre, vous allez apprendre à : \n",
    "- récupérer un texte,\n",
    "- comprendre les notions de *pipeline* de traitement, de document CLTK ou `Doc`, \n",
    "- utiliser un *pipeline* de traitement sur un texte,\n",
    "- manipuler un texte au niveau du mot et aussi au niveau de la phrase."
   ]
  },
  {
   "cell_type": "markdown",
   "id": "addressed-giant",
   "metadata": {
    "pycharm": {
     "name": "#%% md\n"
    }
   },
   "source": [
    "## Introduction"
   ]
  },
  {
   "cell_type": "markdown",
   "id": "3db8310f-1451-425d-a173-c01334f0e3a3",
   "metadata": {
    "pycharm": {
     "name": "#%% md\n"
    }
   },
   "source": [
    "## Récupérer un texte"
   ]
  },
  {
   "cell_type": "markdown",
   "id": "53beeabe-c638-40a0-a3d3-7d9973768df6",
   "metadata": {
    "pycharm": {
     "name": "#%% md\n"
    }
   },
   "source": [
    "Bien que CLTK permette de récupérer des corpus de textes pour chaque langue, nous allons commencer par traiter des données stockées en local. Nous pouvons retrouver ce qu'on va faire dans <a href=\"https://github.com/cltk/cltk/blob/master/notebooks/CLTK%20Demonstration.ipynb\">le *notebook* sur le dépôt de CLTK</a>. Dans le dépôt actuel, nous mettons à disposition une collection de textes.\n",
    "Regardons un extrait de Tite-Live.\n",
    "\n",
    "Tout d'abord, nous avons besoin de récupérer le texte en le stockant dans une variable."
   ]
  },
  {
   "cell_type": "code",
   "execution_count": 1,
   "id": "regional-place",
   "metadata": {
    "pycharm": {
     "name": "#%%\n"
    }
   },
   "outputs": [],
   "source": [
    "with open(\"texts/lat-livy.txt\") as f:\n",
    "    livy_full = f.read()"
   ]
  },
  {
   "cell_type": "markdown",
   "id": "dependent-greeting",
   "metadata": {
    "pycharm": {
     "name": "#%% md\n"
    }
   },
   "source": [
    "Excellent ! Maintenant, regardons ce que nous avons en main."
   ]
  },
  {
   "cell_type": "code",
   "execution_count": 2,
   "id": "30d24be2-b1b5-4959-b087-5f94465d0931",
   "metadata": {
    "pycharm": {
     "name": "#%%\n"
    }
   },
   "outputs": [
    {
     "name": "stdout",
     "output_type": "stream",
     "text": [
      "Extrait du texte : Iam primum omnium satis constat Troia capta in ceteros saevitum esse Troianos, duobus, Aeneae Antenorique, et vetusti iure hospitii et quia pacis reddendaeque Helenae semper auctores fuerant, omne ius\n",
      "Nombre de caractères : 921462\n",
      "Nombre approximatif de token : 129799\n"
     ]
    }
   ],
   "source": [
    "print(\"Extrait du texte :\", livy_full[:200])\n",
    "print(\"Nombre de caractères :\", len(livy_full))\n",
    "print(\"Nombre approximatif de token :\", len(livy_full.split()))"
   ]
  },
  {
   "cell_type": "markdown",
   "id": "ethical-tourist",
   "metadata": {
    "pycharm": {
     "name": "#%% md\n"
    }
   },
   "source": [
    "Nous utilisons l'expression \"nombre approximatif de tokens\" parce que les tokens sont considérés comme quelque chose qui a une fonction syntaxique dans le texte. Cela signifie qu'un token n'est pas seulement un mot, mais aussi un signe de ponctuation par exemple. Nous utilisons le terme \"approximatif\" parce que la fonction `split()` transforme une chaîne de caractères en liste en considérant par défaut le caractère espace. En d'autres termes, le nombre exact de tokens est plus élevé puisque les signes de ponctuation peuvent être collés aux mots.\n"
   ]
  },
  {
   "cell_type": "markdown",
   "id": "previous-physiology",
   "metadata": {
    "pycharm": {
     "name": "#%% md\n"
    }
   },
   "source": [
    "## Utiliser le *pipeline* de traitement de CLTK"
   ]
  },
  {
   "cell_type": "markdown",
   "id": "black-frame",
   "metadata": {
    "pycharm": {
     "name": "#%% md\n"
    }
   },
   "source": [
    "CLTK est spécialement conçu pour le traitement de langues naturelles appliqué aux langues antiques et médiévales. Pour utiliser au mieux cette bibliothèque, nous avons d'abord besoin d'importer le *pipeline* mentionné."
   ]
  },
  {
   "cell_type": "code",
   "execution_count": 3,
   "id": "animal-governor",
   "metadata": {
    "pycharm": {
     "is_executing": true,
     "name": "#%%\n"
    }
   },
   "outputs": [],
   "source": [
    "from cltk import NLP"
   ]
  },
  {
   "cell_type": "markdown",
   "id": "21ec29d8-8411-4596-8883-944446239c8b",
   "metadata": {
    "pycharm": {
     "name": "#%% md\n"
    }
   },
   "source": [
    "Si le code ci-dessus a fonctionné sans générer d'erreur, alors cela signifie que nous avons correctement importé la classe NLP depuis CLTK. Cela nous permet de créer un *pipeline* de traitement de CLTK. Pour ce faire, nous avons cependant besoin de connaître la langue dans laquelle le texte a été écrit. Tite-Live était un auteur romain, la langue est donc le latin et son code est \"lat\"."
   ]
  },
  {
   "cell_type": "code",
   "execution_count": 4,
   "id": "d752902d-c778-4a79-8adf-685782d1d3dd",
   "metadata": {
    "pycharm": {
     "is_executing": true,
     "name": "#%%\n"
    }
   },
   "outputs": [
    {
     "name": "stdout",
     "output_type": "stream",
     "text": [
      "‎𐤀 CLTK version '1.1.1'.\n",
      "Pipeline for language 'Latin' (ISO: 'lat'): `LatinNormalizeProcess`, `LatinStanzaProcess`, `LatinEmbeddingsProcess`, `StopsProcess`, `LatinLexiconProcess`.\n"
     ]
    }
   ],
   "source": [
    "# Charger le pipline par défaut du latin\n",
    "cltk_nlp = NLP(language=\"lat\")"
   ]
  },
  {
   "cell_type": "markdown",
   "id": "f04ae7a9-47ec-48c7-857b-ce13a55853f2",
   "metadata": {
    "pycharm": {
     "name": "#%% md\n"
    }
   },
   "source": [
    "`NLP(language=\"lat\")` est une variable qui contient le *pipeline* de traitement par défaut proposé par CLTK pour le latin. Il est possible de définir son propre *pipeline* de traitement. Il est courant d'utiliser une variable qui contient le nom `nlp` pour se rappeler facilement qu'on manipule un *pipeline* de traitement.\n",
    "\n",
    "La sortie de cette cellule fournit des informations clés sur notre *pipeline*. Ça inclut les différents *pipelines* de traitement,\n",
    "ou processus appliqués aux données d'entrée (le texte) :\n",
    "- `LatinNormalizeProcess`\n",
    "- `LatinStanzaProcess`\n",
    "- `LatinEmbeddingsProcess`\n",
    "- `StopsProcess`\n",
    "- `LatinNERProcess`\n",
    "- `LatinLexiconProcess`\n",
    "\n",
    "Nous allons étudier chacun de processus ou *process* en profondeur dans ce *notebook*. Pour le moment, il suffit de comprendre qu'un *pipeline* de traitement est une suite ordonnée de processus. L'entrée du *pipeline* s'applique à du texte et la sortie est un document `Doc` propre à CLTK. Un processus se situant après un autre processus peut en dépendre, l'ordre est donc important.\n",
    "Nous allons aborder l'ensemble des processus plus tard dans ce *notebook*. Pour l'instant, il faut comprendre que le texte qui est passé par une instance de la classe NLP passe à travers un certain nombre de processus dans le *pipeline*. L'ordre est important à respecter puisque des processus dépendent du résultat des processus précédents.\n",
    "\n",
    "Si on veut enlever un processus du *pipeline* de traitements, on peut modifier directement l'attribut `cltk_nlp.pipeline.processes` en appliquant la méthode `pop()`. Si aucun argument n'est donné, alors le dernier élément est retiré. S'il y a un argument, alors c'est l'indice de l'élément dans la liste à retirer.\n"
   ]
  },
  {
   "cell_type": "code",
   "execution_count": 5,
   "id": "82606f42-e268-420b-a4b1-875f94d4e32b",
   "metadata": {
    "pycharm": {
     "is_executing": true,
     "name": "#%%\n"
    }
   },
   "outputs": [
    {
     "name": "stdout",
     "output_type": "stream",
     "text": [
      "[<class 'cltk.alphabet.processes.LatinNormalizeProcess'>, <class 'cltk.dependency.processes.LatinStanzaProcess'>, <class 'cltk.embeddings.processes.LatinEmbeddingsProcess'>, <class 'cltk.stops.processes.StopsProcess'>]\n"
     ]
    }
   ],
   "source": [
    "cltk_nlp.pipeline.processes.pop()\n",
    "print(cltk_nlp.pipeline.processes)"
   ]
  },
  {
   "cell_type": "markdown",
   "id": "f22fbe5c-532b-4998-be0c-01672368c92f",
   "metadata": {
    "pycharm": {
     "name": "#%% md\n"
    }
   },
   "source": [
    "Une raison de retirer un processus peut être de vouloir éviter des traitements trop long. Le processus `LatinLexiconProcess` prend beaucoup de temps et ne correspond pas forcément à tous les besoins, comme le nôtre qui est de faire un *pipeline* de traitements pour trouver les entités nommées dans des textes.\n"
   ]
  },
  {
   "cell_type": "code",
   "execution_count": null,
   "id": "d08b3a3f-f0dd-4723-aa5c-a90c029a406e",
   "metadata": {
    "pycharm": {
     "is_executing": true,
     "name": "#%%\n"
    }
   },
   "outputs": [],
   "source": []
  },
  {
   "cell_type": "code",
   "execution_count": null,
   "id": "2d0bf8b3-f04f-49b1-b47e-b1068926c657",
   "metadata": {
    "pycharm": {
     "is_executing": true,
     "name": "#%%\n"
    }
   },
   "outputs": [],
   "source": []
  },
  {
   "cell_type": "code",
   "execution_count": null,
   "id": "a50fda6e-53b3-4b91-a273-c172c27b5214",
   "metadata": {
    "pycharm": {
     "is_executing": true,
     "name": "#%%\n"
    }
   },
   "outputs": [],
   "source": []
  },
  {
   "cell_type": "code",
   "execution_count": null,
   "id": "84d370d0-0c86-4b19-bb69-4acf180261b2",
   "metadata": {
    "pycharm": {
     "is_executing": true,
     "name": "#%%\n"
    }
   },
   "outputs": [],
   "source": []
  },
  {
   "cell_type": "markdown",
   "id": "888a7f02-acca-47f4-bb8a-285084022f3c",
   "metadata": {
    "pycharm": {
     "name": "#%% md\n"
    }
   },
   "source": [
    "## The CLTK Doc Object"
   ]
  },
  {
   "cell_type": "markdown",
   "id": "0b8b8179-cc2d-4fb8-ad0d-824d8bfcce5d",
   "metadata": {
    "pycharm": {
     "name": "#%% md\n"
    }
   },
   "source": [
    "Maintenant que nous avons mis en place notre *pipeline*, analysons un texte. Pour ce faire, nous allons créer un objet CLTK Doc. Si vous êtes déjà familié avec spaCy ou d'autres bibliothèques de TAL, ça doit vous dire quelque chose. L'objet Doc contient les données du texte. Avant que nous examinions l'objet `Doc`, instancions en donc un. Tout d'abord, raccourcissons le texte de Tite-Live.\n"
   ]
  },
  {
   "cell_type": "code",
   "execution_count": 6,
   "id": "44905145-d258-4bef-a88f-126e1d8ad454",
   "metadata": {
    "pycharm": {
     "is_executing": true,
     "name": "#%%\n"
    }
   },
   "outputs": [
    {
     "name": "stdout",
     "output_type": "stream",
     "text": [
      "Nombre approximatif de tokens : 10905\n"
     ]
    }
   ],
   "source": [
    "livy = livy_full[:len(livy_full) // 12]\n",
    "print(\"Nombre approximatif de tokens :\", len(livy.split()))"
   ]
  },
  {
   "cell_type": "markdown",
   "id": "dba335d5-b568-4e06-b1a7-864533789d6d",
   "metadata": {
    "pycharm": {
     "name": "#%% md\n"
    }
   },
   "source": [
    "Une fois le texte raccourci, créons un objet `Doc` en appelant la méthode `analyze()` de `cltk_doc` avec comme premier argument le texte à analyser. Si c'est la première fois que vous exécutez ce code, le code va vous demander d'entrer \"Y\" pour télécharger les modèles."
   ]
  },
  {
   "cell_type": "code",
   "execution_count": 7,
   "id": "ac720b4d-6aa6-476a-bda6-f3c57238de96",
   "metadata": {
    "pycharm": {
     "is_executing": true,
     "name": "#%%\n"
    }
   },
   "outputs": [],
   "source": [
    "cltk_doc = cltk_nlp.analyze(text=livy)"
   ]
  },
  {
   "cell_type": "markdown",
   "id": "a53a62bd-4aa0-4f01-9d28-3f79722b756c",
   "metadata": {
    "pycharm": {
     "name": "#%% md\n"
    }
   },
   "source": [
    "Une fois les modèles téléchargés, notre *pipeline* de traitements exécute les processus à partir du texte. Commençons par examiner l'objet `Doc` généré."
   ]
  },
  {
   "cell_type": "code",
   "execution_count": 8,
   "id": "3872fa9e-8bc6-436b-a430-4dd79a6ae956",
   "metadata": {
    "pycharm": {
     "is_executing": true,
     "name": "#%%\n"
    }
   },
   "outputs": [
    {
     "name": "stdout",
     "output_type": "stream",
     "text": [
      "<class 'cltk.core.data_types.Doc'>\n"
     ]
    }
   ],
   "source": [
    "print(type(cltk_doc))"
   ]
  },
  {
   "cell_type": "markdown",
   "id": "87cffa52-ced7-43b8-b29c-b064bf64d9d7",
   "metadata": {
    "pycharm": {
     "name": "#%% md\n"
    }
   },
   "source": [
    "C'est une classe définie par le code de CLTK. Ça ne fait pas partie du code de base de Python."
   ]
  },
  {
   "cell_type": "markdown",
   "id": "6c355a91-3281-42e7-b9d6-ab3fe8522bd2",
   "metadata": {
    "pycharm": {
     "name": "#%% md\n"
    }
   },
   "source": [
    "## Les accesseurs de l'objet Doc"
   ]
  },
  {
   "cell_type": "markdown",
   "id": "aab37dfa-b403-4cf8-8141-e867219b6dc2",
   "metadata": {
    "pycharm": {
     "name": "#%% md\n"
    }
   },
   "source": [
    "L'objet `Doc` a des variables que l'on appelle attributs ou propriétés, selon qu'elles sont directement enregistrées comme telles (attributs) ou calculéss à partir d'attributs (propriétés). On regroupe les attributs et les propriétés sous le terme d'accesseurs (ou *accessors* en anglais). Dans notre cas, ces accesseurs, seront ou biende type de base de Python ou bien seront composés d'objets propres à CLTK comme `Word` par exemple. Ces accesseurs nous aideront à parser de différentes manières, à notre guise, les variables de type `Doc`.\n",
    "\n",
    "Regardons d'abord les accesseurs directement disponibles à partir d'une variable `Doc`."
   ]
  },
  {
   "cell_type": "code",
   "execution_count": 9,
   "id": "75228028-5221-4e89-9361-ebbf17b0c5a2",
   "metadata": {
    "pycharm": {
     "is_executing": true,
     "name": "#%%\n"
    }
   },
   "outputs": [
    {
     "name": "stdout",
     "output_type": "stream",
     "text": [
      "_get_words_attribute\n",
      "embeddings\n",
      "embeddings_model\n",
      "language\n",
      "lemmata\n",
      "morphosyntactic_features\n",
      "normalized_text\n",
      "pipeline\n",
      "pos\n",
      "raw\n",
      "sentence_embeddings\n",
      "sentences\n",
      "sentences_strings\n",
      "sentences_tokens\n",
      "stanza_doc\n",
      "stems\n",
      "tokens\n",
      "tokens_stops_filtered\n",
      "words\n"
     ]
    }
   ],
   "source": [
    "accessors = ([x for x in dir(cltk_doc) if not x.startswith(\"__\")])\n",
    "for a in accessors:\n",
    "    print (a)"
   ]
  },
  {
   "cell_type": "markdown",
   "id": "3088fe57-397b-49e0-9cf5-ebd21712672c",
   "metadata": {
    "pycharm": {
     "name": "#%% md\n"
    }
   },
   "source": [
    "Examinons plusieurs de ces accesseurs en détail. Chaque accesseur a un titre de telle manière qu'il vous est possible de naviguer facilement entre les paragraphes."
   ]
  },
  {
   "cell_type": "markdown",
   "id": "647f2609-b99e-4411-a3da-45f2878d32cc",
   "metadata": {
    "pycharm": {
     "name": "#%% md\n"
    }
   },
   "source": [
    "### Raw"
   ]
  },
  {
   "cell_type": "markdown",
   "id": "64a90828-c2af-4fd7-8723-94e015d045e5",
   "metadata": {
    "pycharm": {
     "name": "#%% md\n"
    }
   },
   "source": [
    "L'attribut `raw` (cru, brut en anglais) est le texte brut que l'on a donné en entré du *pipeline*."
   ]
  },
  {
   "cell_type": "code",
   "execution_count": 10,
   "id": "5936b2cc-7d04-4113-b77d-683ca7eb4cb1",
   "metadata": {
    "pycharm": {
     "is_executing": true,
     "name": "#%%\n"
    }
   },
   "outputs": [
    {
     "name": "stdout",
     "output_type": "stream",
     "text": [
      "Iam primum omnium sa\n"
     ]
    }
   ],
   "source": [
    "print (cltk_doc.raw[:20])"
   ]
  },
  {
   "cell_type": "markdown",
   "id": "2f7ddbd8-ec98-415e-b89b-3702751dfd12",
   "metadata": {
    "pycharm": {
     "name": "#%% md\n"
    }
   },
   "source": [
    "### Tokens"
   ]
  },
  {
   "cell_type": "markdown",
   "id": "c031317f-b98a-4cb0-8c98-106d641e806d",
   "metadata": {
    "pycharm": {
     "name": "#%% md\n"
    }
   },
   "source": [
    "L'attribut *tokens* est une liste ordonnée qui contient les tokens du texte."
   ]
  },
  {
   "cell_type": "code",
   "execution_count": 11,
   "id": "16806e4a-9b65-415a-b24c-dd994c2b2d50",
   "metadata": {
    "pycharm": {
     "is_executing": true,
     "name": "#%%\n"
    }
   },
   "outputs": [
    {
     "name": "stdout",
     "output_type": "stream",
     "text": [
      "['Iam', 'primum', 'omnium', 'satis', 'constat', 'Troia', 'capta', 'in', 'ceteros', 'saevitum', 'esse', 'Troianos', ',', 'duobus', ',', 'Aeneae', 'Antenorique', ',', 'et', 'vetusti']\n"
     ]
    }
   ],
   "source": [
    "print(cltk_doc.tokens[:20])"
   ]
  },
  {
   "cell_type": "markdown",
   "id": "0450a881-8f2d-400a-bf04-b71c8a228d34",
   "metadata": {
    "pycharm": {
     "name": "#%% md\n"
    }
   },
   "source": [
    "Vous pouvez voir que les tokens sont isolés les uns par rapport aux autres dans une liste. Les mots et la ponctuation ont chacun leur place. Une étude du texte au niveau des mots est dès lors possible."
   ]
  },
  {
   "cell_type": "markdown",
   "id": "de18b233-b455-40c7-95e4-38e64cdcd5f6",
   "metadata": {
    "pycharm": {
     "name": "#%% md\n"
    }
   },
   "source": [
    "### Lemmata"
   ]
  },
  {
   "cell_type": "markdown",
   "id": "7d3a857f-dc27-4937-8e5c-9b889a1d1f0d",
   "metadata": {
    "pycharm": {
     "name": "#%% md\n"
    }
   },
   "source": [
    "Comme la propriété `tokens`, la propriété `lemmata` est aussi une liste dérivée du texte brut à la différence près que les éléments sont les lemmes associés aux tokens. Un lemme est la forme du dictionnaire associé à un token. Ici, on a le token \"capta\" qui est associé au lemme \"capio\" parce qu'en latin, la forme du dictionnaire d'un participe passé est la première personne du singulier du présent de l'indicatif du verbe en question."
   ]
  },
  {
   "cell_type": "code",
   "execution_count": 12,
   "id": "1d668ba6-099d-4089-86fb-f3a64589f45a",
   "metadata": {
    "pycharm": {
     "is_executing": true,
     "name": "#%%\n"
    }
   },
   "outputs": [
    {
     "name": "stdout",
     "output_type": "stream",
     "text": [
      "['Iam', 'primus', 'omnis', 'satis', 'consto', 'Troia', 'capio', 'in', 'ceterus', 'saevitum', 'sum', 'Troianos', ',', 'duo', ',', 'Aeneae', 'Antenorique', ',', 'et', 'vetusti']\n"
     ]
    }
   ],
   "source": [
    "print(cltk_doc.lemmata[:20])"
   ]
  },
  {
   "cell_type": "markdown",
   "id": "cee33325-62c7-4603-acd6-0936285daaba",
   "metadata": {
    "pycharm": {
     "name": "#%% md\n"
    }
   },
   "source": [
    "### POS"
   ]
  },
  {
   "cell_type": "markdown",
   "id": "09829517-4909-422d-9a6a-54685bdb2812",
   "metadata": {
    "pycharm": {
     "name": "#%% md\n"
    }
   },
   "source": [
    "La propriété `pos` fonctionne de la même manière, mais contient la nature du mot en lieu et place du token dans `tokens`. `pos` est l'acronyme de *part-of-speech* ou *pars oratori* en latin qui correspond au français \"nature du mot\" ou \"nature grammaticale\". Cet attribut est très courant dans les bibliothèques de TAL."
   ]
  },
  {
   "cell_type": "code",
   "execution_count": 13,
   "id": "62d2e149-0a26-4237-96f5-8d2714f24b5c",
   "metadata": {
    "pycharm": {
     "is_executing": true,
     "name": "#%%\n"
    }
   },
   "outputs": [
    {
     "name": "stdout",
     "output_type": "stream",
     "text": [
      "['ADV', 'ADJ', 'PRON', 'ADV', 'VERB', 'NOUN', 'VERB', 'ADP', 'PRON', 'VERB', 'AUX', 'NOUN', 'PUNCT', 'NUM', 'PUNCT', 'NOUN', 'VERB', 'PUNCT', 'CCONJ', 'NOUN']\n"
     ]
    }
   ],
   "source": [
    "print(cltk_doc.pos[:20])"
   ]
  },
  {
   "cell_type": "code",
   "execution_count": null,
   "id": "46aa2d23",
   "metadata": {
    "pycharm": {
     "is_executing": true,
     "name": "#%%\n"
    }
   },
   "outputs": [],
   "source": []
  },
  {
   "cell_type": "markdown",
   "id": "4277a39e-44fa-4d49-b993-a5bb57573e20",
   "metadata": {
    "pycharm": {
     "name": "#%% md\n"
    }
   },
   "source": [
    "### Words"
   ]
  },
  {
   "cell_type": "markdown",
   "id": "f17e1708-c5e2-48b0-84d0-845017ce3fd9",
   "metadata": {
    "pycharm": {
     "name": "#%% md\n"
    }
   },
   "source": [
    "La propriété `words` est aussi une liste comme `tokens` ou `lemmata` mais elle ne contient pas de *strings* mais contient des objets de type `Word`. Regardons le septième élements de `words`."
   ]
  },
  {
   "cell_type": "code",
   "execution_count": 14,
   "id": "c941998d-bef0-4945-a886-71ab500954d9",
   "metadata": {
    "pycharm": {
     "is_executing": true,
     "name": "#%%\n"
    }
   },
   "outputs": [
    {
     "name": "stdout",
     "output_type": "stream",
     "text": [
      "Word(index_char_start=None, index_char_stop=None, index_token=6, index_sentence=0, string='capta', pos=verb, lemma='capio', stem=None, scansion=None, xpos='L2|modM|tem4|grp1|casA|gen2', upos='VERB', dependency_relation='acl', governor=5, features={Aspect: [perfective], Case: [nominative], Degree: [positive], Gender: [feminine], Number: [singular], Tense: [past], VerbForm: [participle], Voice: [passive]}, category={F: [neg], N: [neg], V: [pos]}, stop=False, named_entity=None, syllables=None, phonetic_transcription=None, definition=None)\n"
     ]
    }
   ],
   "source": [
    "print (cltk_doc.words[6])"
   ]
  },
  {
   "cell_type": "markdown",
   "id": "8126f703-4858-4d32-83c1-04be8556ebaf",
   "metadata": {
    "pycharm": {
     "name": "#%% md\n"
    }
   },
   "source": [
    "C'est un objet qui a lui-même plusieurs accesseurs ! Nous pouvons voir toutes les données pertinentes à l'échelle d'un mot. On peut voir quelle est la nature du mot sélectionné."
   ]
  },
  {
   "cell_type": "code",
   "execution_count": 15,
   "id": "59026751-4589-4903-8808-670c967db580",
   "metadata": {
    "pycharm": {
     "is_executing": true,
     "name": "#%%\n"
    }
   },
   "outputs": [
    {
     "name": "stdout",
     "output_type": "stream",
     "text": [
      "verb\n"
     ]
    }
   ],
   "source": [
    "print (cltk_doc.words[6].pos)"
   ]
  },
  {
   "cell_type": "markdown",
   "id": "c0c60bf1-c6c6-4d23-a688-2ca9c77eef54",
   "metadata": {
    "pycharm": {
     "name": "#%% md\n"
    }
   },
   "source": [
    "Maintenant que nous savons que c'est un verbe, on peut vouloir connaître sa voix (voix active ou voix passive). On regarde pour ça l'attribut `features` qui est un dictionnaire."
   ]
  },
  {
   "cell_type": "code",
   "execution_count": 16,
   "id": "0df3406f-8567-4c70-b702-eb604b9dad91",
   "metadata": {
    "pycharm": {
     "is_executing": true,
     "name": "#%%\n"
    }
   },
   "outputs": [
    {
     "name": "stdout",
     "output_type": "stream",
     "text": [
      "{Aspect: [perfective], Case: [nominative], Degree: [positive], Gender: [feminine], Number: [singular], Tense: [past], VerbForm: [participle], Voice: [passive]}\n"
     ]
    }
   ],
   "source": [
    "print (cltk_doc.words[6].features)"
   ]
  },
  {
   "cell_type": "markdown",
   "id": "268c59cf-5632-407e-8d57-5b7dc4a04993",
   "metadata": {
    "pycharm": {
     "name": "#%% md\n"
    }
   },
   "source": [
    "Le dictionnaire a une clef \"Voice\" qui est associée à la valeur \"passive\". Ce verbe est à la voix passive !"
   ]
  },
  {
   "cell_type": "code",
   "execution_count": 17,
   "id": "5cf58243-8756-41da-ac15-d603c3e5777e",
   "metadata": {
    "pycharm": {
     "is_executing": true,
     "name": "#%%\n"
    }
   },
   "outputs": [
    {
     "name": "stdout",
     "output_type": "stream",
     "text": [
      "[passive]\n"
     ]
    }
   ],
   "source": [
    "print (cltk_doc.words[6].features[\"Voice\"])"
   ]
  },
  {
   "cell_type": "markdown",
   "id": "99385ac8-b50c-4545-ac18-7ce421caa5af",
   "metadata": {
    "pycharm": {
     "name": "#%% md\n"
    }
   },
   "source": [
    "On peut voir les autres élements facilement."
   ]
  },
  {
   "cell_type": "code",
   "execution_count": 18,
   "id": "56a58626-95ce-4436-b655-ac0d4f3051eb",
   "metadata": {
    "pycharm": {
     "is_executing": true,
     "name": "#%%\n"
    }
   },
   "outputs": [
    {
     "name": "stdout",
     "output_type": "stream",
     "text": [
      "Number: [singular]\n",
      "Tense: [past]\n",
      "VerbForm: [participle]\n",
      "Voice: [passive]\n"
     ]
    }
   ],
   "source": [
    "print(\"Number:\", cltk_doc.words[6].features[\"Number\"])\n",
    "print(\"Tense:\", cltk_doc.words[6].features[\"Tense\"])\n",
    "print(\"VerbForm:\", cltk_doc.words[6].features[\"VerbForm\"]) \n",
    "print(\"Voice:\", cltk_doc.words[6].features[\"Voice\"])"
   ]
  },
  {
   "cell_type": "markdown",
   "id": "02261d2c-175c-4236-bc1d-8dfde01b11fd",
   "metadata": {
    "pycharm": {
     "name": "#%% md\n"
    }
   },
   "source": [
    "Je vous encourage à prendre le temps de découvrir les possibilités offertes par les classes `Doc` et `Word` et leurs accesseurs. Grâce à elles, vous pouvez aisément profiter de toute la puissance de CLTK. En prime, il est possible d'ajouter autant d'accesseurs que nécessaires."
   ]
  },
  {
   "cell_type": "markdown",
   "id": "57fa1819-e04f-49d0-81be-6ec9dced1fee",
   "metadata": {
    "pycharm": {
     "name": "#%% md\n"
    }
   },
   "source": [
    "### Sentence Tokens"
   ]
  },
  {
   "cell_type": "markdown",
   "id": "f497b354-8430-47c1-af39-146fb962c16c",
   "metadata": {
    "pycharm": {
     "name": "#%% md\n"
    }
   },
   "source": [
    "Contrairement aux attributs précédents, `sentence_tokens` nous permet d'analyser le texte au niveau de la phrase. Ainsi, le parsage phrase par phrase devient possible. L'approche la plus simple pour séparer les phrases est d'utiliser `split(\".\")`. Cependant, cette méthode est très imprécise parce que les points peuvent noter des abbréviations en plein milieu d'une phrase par exemple. Grâce aux fonctions *ad hoc* écrites par CLTK, on peut séparer aisément les phrases d'un texte en latin."
   ]
  },
  {
   "cell_type": "code",
   "execution_count": 19,
   "id": "7483fb7a-e51b-4f52-bc7e-5328c2dc9b74",
   "metadata": {
    "pycharm": {
     "is_executing": true,
     "name": "#%%\n"
    }
   },
   "outputs": [
    {
     "name": "stdout",
     "output_type": "stream",
     "text": [
      "[['Iam', 'primum', 'omnium', 'satis', 'constat', 'Troia', 'capta', 'in', 'ceteros', 'saevitum', 'esse', 'Troianos', ',', 'duobus', ',', 'Aeneae', 'Antenorique', ',', 'et', 'vetusti', 'iure', 'hospitii', 'et', 'quia', 'pacis', 'reddendaeque', 'Helenae', 'semper', 'auctores', 'fuerant', ',', 'omne', 'ius', 'belli', 'Achiuos', 'abstinuisse', ';'], ['casibus', 'deinde', 'variis', 'Antenorem', 'cum', 'multitudine', 'Enetum', ',', 'qui', 'seditione', 'ex', 'Paphlagonia', 'pulsi', 'et', 'sedes', 'et', 'ducem', 'rege', 'Pylaemene', 'ad', 'Troiam', 'amisso', 'quaerebant', ',', 'venisse', 'in', 'intimum', 'maris', 'Hadriatici', 'sinum', ',', 'Euganeisque', 'qui', 'inter', 'mare', 'Alpesque', 'incolebant', 'pulsis', 'Enetos', 'Troianosque', 'eas', 'tenuisse', 'terras', '.']]\n"
     ]
    }
   ],
   "source": [
    "print(cltk_doc.sentences_tokens[:2])"
   ]
  },
  {
   "cell_type": "markdown",
   "id": "floral-antique",
   "metadata": {
    "pycharm": {
     "name": "#%% md\n"
    }
   },
   "source": [
    "## Conclusion"
   ]
  },
  {
   "cell_type": "markdown",
   "id": "834f5782-9752-48f7-bba5-538a8f627954",
   "metadata": {
    "pycharm": {
     "name": "#%% md\n"
    }
   },
   "source": [
    "Ce chapitre a présenté les principales caractéristiques de la class NLP et nous avons vu comment construire le *pipeline* de traitement et comment y passer un texte à travers lui. Dans le prochain chapitre, nous allons examiner plus particulièrement la reconnaissance d'entités nommées."
   ]
  },
  {
   "cell_type": "code",
   "execution_count": null,
   "id": "3e76567c-bac9-48c8-ba9f-5acfa726df2c",
   "metadata": {
    "pycharm": {
     "is_executing": true,
     "name": "#%%\n"
    }
   },
   "outputs": [],
   "source": []
  }
 ],
 "metadata": {
  "kernelspec": {
   "display_name": "Python 3 (ipykernel)",
   "language": "python",
   "name": "python3"
  },
  "language_info": {
   "codemirror_mode": {
    "name": "ipython",
    "version": 3
   },
   "file_extension": ".py",
   "mimetype": "text/x-python",
   "name": "python",
   "nbconvert_exporter": "python",
   "pygments_lexer": "ipython3",
   "version": "3.8.3"
  }
 },
 "nbformat": 4,
 "nbformat_minor": 5
}
